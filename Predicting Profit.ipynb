{
 "cells": [
  {
   "cell_type": "code",
   "execution_count": 1,
   "id": "c05da735-b721-436c-bd2a-ade3519f7fa4",
   "metadata": {},
   "outputs": [],
   "source": [
    "import numpy as np\n",
    "import matplotlib.pyplot as plt\n",
    "import pandas as pd\n",
    "import seaborn as sns\n",
    "%matplotlib inline"
   ]
  },
  {
   "cell_type": "code",
   "execution_count": 3,
   "id": "6c20afee-3247-4644-aa3a-ee7292686bbd",
   "metadata": {},
   "outputs": [],
   "source": [
    "companies_df = pd.read_csv('data/1000_Companies.csv')"
   ]
  },
  {
   "cell_type": "code",
   "execution_count": 5,
   "id": "d9c6c5c9-a76a-495d-8546-dee6e6778875",
   "metadata": {},
   "outputs": [
    {
     "data": {
      "text/html": [
       "<div>\n",
       "<style scoped>\n",
       "    .dataframe tbody tr th:only-of-type {\n",
       "        vertical-align: middle;\n",
       "    }\n",
       "\n",
       "    .dataframe tbody tr th {\n",
       "        vertical-align: top;\n",
       "    }\n",
       "\n",
       "    .dataframe thead th {\n",
       "        text-align: right;\n",
       "    }\n",
       "</style>\n",
       "<table border=\"1\" class=\"dataframe\">\n",
       "  <thead>\n",
       "    <tr style=\"text-align: right;\">\n",
       "      <th></th>\n",
       "      <th>R&amp;D Spend</th>\n",
       "      <th>Administration</th>\n",
       "      <th>Marketing Spend</th>\n",
       "      <th>State</th>\n",
       "      <th>Profit</th>\n",
       "    </tr>\n",
       "  </thead>\n",
       "  <tbody>\n",
       "    <tr>\n",
       "      <th>0</th>\n",
       "      <td>165349.20</td>\n",
       "      <td>136897.80</td>\n",
       "      <td>471784.10</td>\n",
       "      <td>New York</td>\n",
       "      <td>192261.83</td>\n",
       "    </tr>\n",
       "    <tr>\n",
       "      <th>1</th>\n",
       "      <td>162597.70</td>\n",
       "      <td>151377.59</td>\n",
       "      <td>443898.53</td>\n",
       "      <td>California</td>\n",
       "      <td>191792.06</td>\n",
       "    </tr>\n",
       "    <tr>\n",
       "      <th>2</th>\n",
       "      <td>153441.51</td>\n",
       "      <td>101145.55</td>\n",
       "      <td>407934.54</td>\n",
       "      <td>Florida</td>\n",
       "      <td>191050.39</td>\n",
       "    </tr>\n",
       "    <tr>\n",
       "      <th>3</th>\n",
       "      <td>144372.41</td>\n",
       "      <td>118671.85</td>\n",
       "      <td>383199.62</td>\n",
       "      <td>New York</td>\n",
       "      <td>182901.99</td>\n",
       "    </tr>\n",
       "    <tr>\n",
       "      <th>4</th>\n",
       "      <td>142107.34</td>\n",
       "      <td>91391.77</td>\n",
       "      <td>366168.42</td>\n",
       "      <td>Florida</td>\n",
       "      <td>166187.94</td>\n",
       "    </tr>\n",
       "  </tbody>\n",
       "</table>\n",
       "</div>"
      ],
      "text/plain": [
       "   R&D Spend  Administration  Marketing Spend       State     Profit\n",
       "0  165349.20       136897.80        471784.10    New York  192261.83\n",
       "1  162597.70       151377.59        443898.53  California  191792.06\n",
       "2  153441.51       101145.55        407934.54     Florida  191050.39\n",
       "3  144372.41       118671.85        383199.62    New York  182901.99\n",
       "4  142107.34        91391.77        366168.42     Florida  166187.94"
      ]
     },
     "execution_count": 5,
     "metadata": {},
     "output_type": "execute_result"
    }
   ],
   "source": [
    "# output of the first 5 records \n",
    "companies_df.head()"
   ]
  },
  {
   "cell_type": "code",
   "execution_count": 7,
   "id": "966beecd-54c3-411f-9bc7-1eecdeae998f",
   "metadata": {},
   "outputs": [
    {
     "data": {
      "text/html": [
       "<div>\n",
       "<style scoped>\n",
       "    .dataframe tbody tr th:only-of-type {\n",
       "        vertical-align: middle;\n",
       "    }\n",
       "\n",
       "    .dataframe tbody tr th {\n",
       "        vertical-align: top;\n",
       "    }\n",
       "\n",
       "    .dataframe thead th {\n",
       "        text-align: right;\n",
       "    }\n",
       "</style>\n",
       "<table border=\"1\" class=\"dataframe\">\n",
       "  <thead>\n",
       "    <tr style=\"text-align: right;\">\n",
       "      <th></th>\n",
       "      <th>R&amp;D Spend</th>\n",
       "      <th>Administration</th>\n",
       "      <th>Marketing Spend</th>\n",
       "      <th>Profit</th>\n",
       "    </tr>\n",
       "  </thead>\n",
       "  <tbody>\n",
       "    <tr>\n",
       "      <th>count</th>\n",
       "      <td>1000.000000</td>\n",
       "      <td>1000.000000</td>\n",
       "      <td>1000.000000</td>\n",
       "      <td>1000.000000</td>\n",
       "    </tr>\n",
       "    <tr>\n",
       "      <th>mean</th>\n",
       "      <td>81668.927200</td>\n",
       "      <td>122963.897612</td>\n",
       "      <td>226205.058419</td>\n",
       "      <td>119546.164656</td>\n",
       "    </tr>\n",
       "    <tr>\n",
       "      <th>std</th>\n",
       "      <td>46537.567891</td>\n",
       "      <td>12613.927535</td>\n",
       "      <td>91578.393542</td>\n",
       "      <td>42888.633848</td>\n",
       "    </tr>\n",
       "    <tr>\n",
       "      <th>min</th>\n",
       "      <td>0.000000</td>\n",
       "      <td>51283.140000</td>\n",
       "      <td>0.000000</td>\n",
       "      <td>14681.400000</td>\n",
       "    </tr>\n",
       "    <tr>\n",
       "      <th>25%</th>\n",
       "      <td>43084.500000</td>\n",
       "      <td>116640.684850</td>\n",
       "      <td>150969.584600</td>\n",
       "      <td>85943.198543</td>\n",
       "    </tr>\n",
       "    <tr>\n",
       "      <th>50%</th>\n",
       "      <td>79936.000000</td>\n",
       "      <td>122421.612150</td>\n",
       "      <td>224517.887350</td>\n",
       "      <td>117641.466300</td>\n",
       "    </tr>\n",
       "    <tr>\n",
       "      <th>75%</th>\n",
       "      <td>124565.500000</td>\n",
       "      <td>129139.118000</td>\n",
       "      <td>308189.808525</td>\n",
       "      <td>155577.107425</td>\n",
       "    </tr>\n",
       "    <tr>\n",
       "      <th>max</th>\n",
       "      <td>165349.200000</td>\n",
       "      <td>321652.140000</td>\n",
       "      <td>471784.100000</td>\n",
       "      <td>476485.430000</td>\n",
       "    </tr>\n",
       "  </tbody>\n",
       "</table>\n",
       "</div>"
      ],
      "text/plain": [
       "           R&D Spend  Administration  Marketing Spend         Profit\n",
       "count    1000.000000     1000.000000      1000.000000    1000.000000\n",
       "mean    81668.927200   122963.897612    226205.058419  119546.164656\n",
       "std     46537.567891    12613.927535     91578.393542   42888.633848\n",
       "min         0.000000    51283.140000         0.000000   14681.400000\n",
       "25%     43084.500000   116640.684850    150969.584600   85943.198543\n",
       "50%     79936.000000   122421.612150    224517.887350  117641.466300\n",
       "75%    124565.500000   129139.118000    308189.808525  155577.107425\n",
       "max    165349.200000   321652.140000    471784.100000  476485.430000"
      ]
     },
     "execution_count": 7,
     "metadata": {},
     "output_type": "execute_result"
    }
   ],
   "source": [
    "companies_df.describe()"
   ]
  },
  {
   "cell_type": "code",
   "execution_count": 9,
   "id": "c6d5224b-efdf-4992-8e65-68151387990c",
   "metadata": {},
   "outputs": [
    {
     "data": {
      "text/plain": [
       "(1000, 5)"
      ]
     },
     "execution_count": 9,
     "metadata": {},
     "output_type": "execute_result"
    }
   ],
   "source": [
    "#  1000 rows , 5 columns\n",
    "companies_df.shape"
   ]
  },
  {
   "cell_type": "code",
   "execution_count": 11,
   "id": "fcde8ac2-eaff-4c22-a011-e606cafb2cda",
   "metadata": {},
   "outputs": [
    {
     "data": {
      "text/plain": [
       "R&D Spend          float64\n",
       "Administration     float64\n",
       "Marketing Spend    float64\n",
       "State               object\n",
       "Profit             float64\n",
       "dtype: object"
      ]
     },
     "execution_count": 11,
     "metadata": {},
     "output_type": "execute_result"
    }
   ],
   "source": [
    "# With the exception of State(categorical variable) the remaining \n",
    "# features are numerical(floats)\n",
    "companies_df.dtypes"
   ]
  },
  {
   "cell_type": "code",
   "execution_count": 13,
   "id": "628e517a-3d50-4866-b1cd-738f07bcb2df",
   "metadata": {},
   "outputs": [],
   "source": [
    "#  X as the R&D variable and Y the profit. \n",
    "\n",
    "#Spend= companies_df['R&D Spend']\n",
    "#Profit= companies_df['Profit']\n",
    "\n",
    "r_and_d_spend = companies_df.iloc[:,0]\n",
    "profit = companies_df.iloc[:,-1]\n",
    "\n",
    "\n",
    "X = r_and_d_spend.values\n",
    "y = profit.values"
   ]
  },
  {
   "cell_type": "code",
   "execution_count": 15,
   "id": "6db068f8-8fb9-491c-b15f-9653e28bb4ef",
   "metadata": {},
   "outputs": [
    {
     "data": {
      "image/png": "[encoded data removed]",
      "text/plain": [
       "<Figure size 640x480 with 1 Axes>"
      ]
     },
     "metadata": {},
     "output_type": "display_data"
    }
   ],
   "source": [
    "#Scatter plot between the variables R&D and Profit showing the relationship \n",
    "\n",
    "plt.scatter(X,y, color = '#88c999')\n",
    "plt.xlabel('R&D Spend')\n",
    "plt.ylabel('Profit')\n",
    "plt.show()"
   ]
  },
  {
   "cell_type": "code",
   "execution_count": 17,
   "id": "f59f0d24-f0b3-4b60-aacd-48d91fa86260",
   "metadata": {},
   "outputs": [
    {
     "name": "stdout",
     "output_type": "stream",
     "text": [
      "0.9452452888937631\n"
     ]
    }
   ],
   "source": [
    "# Correlation value between R&D and Profit.\n",
    "#  strong positive correlation(0.95) with r&d spend and profit. \n",
    "#   As spend increases, profit also increase\n",
    "\n",
    "X = r_and_d_spend.values\n",
    "y = profit.values\n",
    "r =np.corrcoef(X,y)[0,1]\n",
    "print(r)"
   ]
  },
  {
   "cell_type": "code",
   "execution_count": 19,
   "id": "41dbc0c2-5660-4ef4-a502-d0f7df2e869e",
   "metadata": {},
   "outputs": [
    {
     "name": "stdout",
     "output_type": "stream",
     "text": [
      "0.8711301627727818\n"
     ]
    }
   ],
   "source": [
    "#mean and std\n",
    "\n",
    "#$48,401 is the value that represents the expected profit when the spend is 0 . \n",
    "# Without R&D spend, the profit would be $48,401.9. \n",
    "\n",
    "mean_of_X = np.mean(X)\n",
    "mean_of_y = np.mean(y)\n",
    "\n",
    "std_of_X = np.std(X)\n",
    "std_of_y = np.std(y)\n",
    "\n",
    "b = r * (std_of_y/std_of_X)\n",
    "a= mean_of_y - (b* mean_of_X)\n",
    "print(b)\n",
    "#a\n",
    "\n",
    "#y = 48401.9+0.87(X)"
   ]
  },
  {
   "cell_type": "code",
   "execution_count": 21,
   "id": "08f950c7-00a0-4c1e-a79d-21814d6176c7",
   "metadata": {},
   "outputs": [
    {
     "data": {
      "text/plain": [
       "Index(['R&D Spend', 'Administration', 'Marketing Spend', 'State', 'Profit'], dtype='object')"
      ]
     },
     "execution_count": 21,
     "metadata": {},
     "output_type": "execute_result"
    }
   ],
   "source": [
    "# need to review feature names\n",
    "companies_df.columns"
   ]
  },
  {
   "cell_type": "code",
   "execution_count": 23,
   "id": "b8ee74df-2d9d-43ec-b7d3-4641ca6e36db",
   "metadata": {},
   "outputs": [],
   "source": [
    "# need to encode the state column as it is categorical to include this in the  regression analysis, it needs to be converted to numeric\n",
    "from sklearn.preprocessing import OrdinalEncoder\n",
    "\n",
    "encoder = OrdinalEncoder()\n",
    "encoded_states= encoder.fit_transform(companies_df[[\"State\"]])\n",
    "companies_df['states_encoded'] = encoded_states"
   ]
  },
  {
   "cell_type": "code",
   "execution_count": 25,
   "id": "9aaceed4-9688-416e-b524-52b8d7fd2327",
   "metadata": {},
   "outputs": [],
   "source": [
    "new_companies = companies_df.drop('State', axis = 1) #drop the states column as it is not needed"
   ]
  },
  {
   "cell_type": "code",
   "execution_count": 27,
   "id": "42f70a66-dc66-430a-a854-af62b4495318",
   "metadata": {
    "scrolled": true
   },
   "outputs": [
    {
     "data": {
      "text/plain": [
       "Text(0.5, 1.0, 'Correlation Matrix')"
      ]
     },
     "execution_count": 27,
     "metadata": {},
     "output_type": "execute_result"
    },
    {
     "data": {
      "image/png": "[encoded data removed]",
      "text/plain": [
       "<Figure size 640x480 with 2 Axes>"
      ]
     },
     "metadata": {},
     "output_type": "display_data"
    }
   ],
   "source": [
    "# Visualize the correlation between all the attributes:\n",
    "sns.heatmap(new_companies.corr(), annot=True)\n",
    "plt.title('Correlation Matrix')"
   ]
  },
  {
   "cell_type": "code",
   "execution_count": 33,
   "id": "d47e53e4-76f6-4101-a5fa-fce7a725b067",
   "metadata": {},
   "outputs": [],
   "source": [
    "X = companies_df[['R&D Spend','Administration','Marketing Spend', 'states_encoded']]\n",
    "y = companies_df['Profit']"
   ]
  },
  {
   "cell_type": "code",
   "execution_count": 35,
   "id": "5c18e7e9-5657-4385-9c06-6c258674a7d0",
   "metadata": {},
   "outputs": [],
   "source": [
    "#Create training data and testing data:\n",
    "from sklearn.model_selection import train_test_split"
   ]
  },
  {
   "cell_type": "code",
   "execution_count": 37,
   "id": "7ed2ac35-f04a-4917-8243-d8065a9d66d9",
   "metadata": {},
   "outputs": [],
   "source": [
    "# 20% of the data will be used for testing while 80% will be used for training \n",
    "X_train, X_test, y_train, y_test = train_test_split(X,y, test_size =0.2,random_state=0)"
   ]
  },
  {
   "cell_type": "code",
   "execution_count": 39,
   "id": "6abaad3d-262f-44c0-8a2c-fef78bdc72af",
   "metadata": {},
   "outputs": [
    {
     "data": {
      "text/html": [
       "<style>#sk-container-id-1 {color: black;}#sk-container-id-1 pre{padding: 0;}#sk-container-id-1 div.sk-toggleable {background-color: white;}#sk-container-id-1 label.sk-toggleable__label {cursor: pointer;display: block;width: 100%;margin-bottom: 0;padding: 0.3em;box-sizing: border-box;text-align: center;}#sk-container-id-1 label.sk-toggleable__label-arrow:before {content: \"▸\";float: left;margin-right: 0.25em;color: #696969;}#sk-container-id-1 label.sk-toggleable__label-arrow:hover:before {color: black;}#sk-container-id-1 div.sk-estimator:hover label.sk-toggleable__label-arrow:before {color: black;}#sk-container-id-1 div.sk-toggleable__content {max-height: 0;max-width: 0;overflow: hidden;text-align: left;background-color: #f0f8ff;}#sk-container-id-1 div.sk-toggleable__content pre {margin: 0.2em;color: black;border-radius: 0.25em;background-color: #f0f8ff;}#sk-container-id-1 input.sk-toggleable__control:checked~div.sk-toggleable__content {max-height: 200px;max-width: 100%;overflow: auto;}#sk-container-id-1 input.sk-toggleable__control:checked~label.sk-toggleable__label-arrow:before {content: \"▾\";}#sk-container-id-1 div.sk-estimator input.sk-toggleable__control:checked~label.sk-toggleable__label {background-color: #d4ebff;}#sk-container-id-1 div.sk-label input.sk-toggleable__control:checked~label.sk-toggleable__label {background-color: #d4ebff;}#sk-container-id-1 input.sk-hidden--visually {border: 0;clip: rect(1px 1px 1px 1px);clip: rect(1px, 1px, 1px, 1px);height: 1px;margin: -1px;overflow: hidden;padding: 0;position: absolute;width: 1px;}#sk-container-id-1 div.sk-estimator {font-family: monospace;background-color: #f0f8ff;border: 1px dotted black;border-radius: 0.25em;box-sizing: border-box;margin-bottom: 0.5em;}#sk-container-id-1 div.sk-estimator:hover {background-color: #d4ebff;}#sk-container-id-1 div.sk-parallel-item::after {content: \"\";width: 100%;border-bottom: 1px solid gray;flex-grow: 1;}#sk-container-id-1 div.sk-label:hover label.sk-toggleable__label {background-color: #d4ebff;}#sk-container-id-1 div.sk-serial::before {content: \"\";position: absolute;border-left: 1px solid gray;box-sizing: border-box;top: 0;bottom: 0;left: 50%;z-index: 0;}#sk-container-id-1 div.sk-serial {display: flex;flex-direction: column;align-items: center;background-color: white;padding-right: 0.2em;padding-left: 0.2em;position: relative;}#sk-container-id-1 div.sk-item {position: relative;z-index: 1;}#sk-container-id-1 div.sk-parallel {display: flex;align-items: stretch;justify-content: center;background-color: white;position: relative;}#sk-container-id-1 div.sk-item::before, #sk-container-id-1 div.sk-parallel-item::before {content: \"\";position: absolute;border-left: 1px solid gray;box-sizing: border-box;top: 0;bottom: 0;left: 50%;z-index: -1;}#sk-container-id-1 div.sk-parallel-item {display: flex;flex-direction: column;z-index: 1;position: relative;background-color: white;}#sk-container-id-1 div.sk-parallel-item:first-child::after {align-self: flex-end;width: 50%;}#sk-container-id-1 div.sk-parallel-item:last-child::after {align-self: flex-start;width: 50%;}#sk-container-id-1 div.sk-parallel-item:only-child::after {width: 0;}#sk-container-id-1 div.sk-dashed-wrapped {border: 1px dashed gray;margin: 0 0.4em 0.5em 0.4em;box-sizing: border-box;padding-bottom: 0.4em;background-color: white;}#sk-container-id-1 div.sk-label label {font-family: monospace;font-weight: bold;display: inline-block;line-height: 1.2em;}#sk-container-id-1 div.sk-label-container {text-align: center;}#sk-container-id-1 div.sk-container {/* jupyter's `normalize.less` sets `[hidden] { display: none; }` but bootstrap.min.css set `[hidden] { display: none !important; }` so we also need the `!important` here to be able to override the default hidden behavior on the sphinx rendered scikit-learn.org. See: https://github.com/scikit-learn/scikit-learn/issues/21755 */display: inline-block !important;position: relative;}#sk-container-id-1 div.sk-text-repr-fallback {display: none;}</style><div id=\"sk-container-id-1\" class=\"sk-top-container\"><div class=\"sk-text-repr-fallback\"><pre>LinearRegression()</pre><b>In a Jupyter environment, please rerun this cell to show the HTML representation or trust the notebook. <br />On GitHub, the HTML representation is unable to render, please try loading this page with nbviewer.org.</b></div><div class=\"sk-container\" hidden><div class=\"sk-item\"><div class=\"sk-estimator sk-toggleable\"><input class=\"sk-toggleable__control sk-hidden--visually\" id=\"sk-estimator-id-1\" type=\"checkbox\" checked><label for=\"sk-estimator-id-1\" class=\"sk-toggleable__label sk-toggleable__label-arrow\">LinearRegression</label><div class=\"sk-toggleable__content\"><pre>LinearRegression()</pre></div></div></div></div></div>"
      ],
      "text/plain": [
       "LinearRegression()"
      ]
     },
     "execution_count": 39,
     "metadata": {},
     "output_type": "execute_result"
    }
   ],
   "source": [
    "#Predict your profit using: sklearn.linear_model:\n",
    "\n",
    "from sklearn.linear_model import LinearRegression\n",
    "model=LinearRegression() # create the model  \n",
    "model.fit(X_train,y_train) #fit the model to the training data. The model will learn the relationship between the independent and dependent variables using r \n"
   ]
  },
  {
   "cell_type": "code",
   "execution_count": 41,
   "id": "7affcb65-aafc-4765-be15-2e63b9fe7f26",
   "metadata": {
    "scrolled": true
   },
   "outputs": [
    {
     "data": {
      "text/plain": [
       "array([ 89624.88499983,  88261.44060358,  94728.57723845, 176034.49990954,\n",
       "        83234.84214495, 110393.04058199, 131831.18880607,  91307.52461765,\n",
       "       164414.26754671,  53585.35570743,  66786.11950078, 150921.89704628,\n",
       "       126746.78121459,  59174.341725  , 177341.80724482,  75139.98127599,\n",
       "       118605.9491146 , 164403.24374731, 171336.34862472, 181885.06087421,\n",
       "       118762.26624783,  85504.5201526 , 181345.84072646,  83979.76201107,\n",
       "       104839.00200137, 101067.00608604,  53722.31401539,  56706.45386115,\n",
       "        68732.18107141, 209811.34272095, 121136.34391499, 111557.54775873,\n",
       "       101309.70393418, 138315.39958078,  63806.10546728, 108690.79660343,\n",
       "       185830.38310114, 171796.58186122, 174997.97325294, 118029.33822338,\n",
       "        96553.52264734, 165281.03076793, 107557.31012676,  50557.29080259,\n",
       "       116871.82636073,  58469.02312669, 158771.35516035,  78902.17488961,\n",
       "       160082.45834529, 131494.74562654, 185233.67354482, 174962.79318566,\n",
       "        93579.64586335,  78164.61392891, 180561.94494338,  84821.87449117,\n",
       "       143256.92009399, 170435.21728058,  84188.13777206, 105128.89266268,\n",
       "       142016.17711741,  52352.69882961, 141673.45079288, 138995.34025103,\n",
       "        98128.17857189, 113945.01159246, 126574.18191679, 151953.63890674,\n",
       "        58689.41162929, 174639.30763053, 124455.78288593, 168894.28704729,\n",
       "        91639.09627154, 155988.19861521,  84141.93382092,  77701.26598966,\n",
       "       120771.67191431,  93202.83024556, 138851.31833079, 143435.03120172,\n",
       "       171502.27009022, 139913.58651319, 106191.16076064, 155470.92422805,\n",
       "       139849.10179055, 109994.04650482,  69508.71795972,  87971.28828425,\n",
       "       139964.21158468, 148297.48006333, 157734.33411496,  58369.48912141,\n",
       "        93529.74798521, 113004.58676514,  56381.2521726 , 107236.26789414,\n",
       "       147708.49291933, 151962.21946809, 167625.09747992, 118582.41810675,\n",
       "       121120.89899524, 139386.24824009, 157345.63664385, 122319.5973879 ,\n",
       "        86914.16840487, 105151.69639275,  95157.47229309, 178205.73461428,\n",
       "       181770.2127381 , 109652.54183621, 165082.82081555, 167634.66689263,\n",
       "       157820.13925373, 174599.34276711, 170025.19931955,  52139.17476133,\n",
       "       176766.05450263, 104585.0186007 ,  82545.09933122, 138709.60895693,\n",
       "       144630.66101185, 162033.66822962, 170016.12436942, 120808.56812142,\n",
       "       159235.56115351, 110046.51849225, 169491.36019494,  60596.99166217,\n",
       "       158866.23532304, 157998.74491915, 174328.19840197, 156112.61616403,\n",
       "       103547.63396397,  85458.91251291, 141434.05433182, 165734.80936825,\n",
       "       121539.62832572, 170562.43564135, 100864.86949721,  82457.94166529,\n",
       "       178471.00347238, 101623.88174527,  70331.4587885 ,  90072.65723255,\n",
       "        61072.22154665,  68736.34043862,  73136.92467492, 176742.02902153,\n",
       "        90064.57113377, 128998.71699737,  93032.57243205,  88583.13235127,\n",
       "       172664.56674901,  60729.9896911 , 169370.01131309, 166278.94500381,\n",
       "       165779.92245025, 102529.4900122 , 181410.55817988,  74063.62063787,\n",
       "        91101.59217916, 135622.46937921,  64747.25748795,  71599.65942006,\n",
       "        60428.68269046, 184641.61773385, 176640.28450044, 158725.38392932,\n",
       "       141178.22408898, 154429.11848164,  58374.50655107,  90978.39637071,\n",
       "       152703.57620466, 168752.21397631,  72309.26825255, 116422.20721207,\n",
       "        80448.38430783, 149647.19558454, 116627.64518798, 130022.82306379,\n",
       "       174888.14264374, 293492.48984534, 146100.99822157, 150464.91899219,\n",
       "        86467.61783875,  70328.52100342,  70458.08685528,  68869.46933558,\n",
       "       120487.1622868 ,  89500.33665356, 167178.54698757, 125346.44063256,\n",
       "        67033.96565195, 140708.04064616, 118376.48566826, 165726.35967814,\n",
       "       169009.62956152, 146839.78084885, 141215.12028542, 108907.75284131])"
      ]
     },
     "execution_count": 41,
     "metadata": {},
     "output_type": "execute_result"
    }
   ],
   "source": [
    "y_pred=model.predict(X_test)\n",
    "y_pred#predicted values "
   ]
  },
  {
   "cell_type": "code",
   "execution_count": 43,
   "id": "a4e90b62-cc76-4be4-8942-ae8a5fcff2a6",
   "metadata": {},
   "outputs": [
    {
     "name": "stdout",
     "output_type": "stream",
     "text": [
      "[ 5.27572958e-01  8.44490415e-01  1.06639226e-01 -3.54869857e+02]\n"
     ]
    }
   ],
   "source": [
    "print(model.coef_) # r scores for each independent variable "
   ]
  },
  {
   "cell_type": "code",
   "execution_count": 45,
   "id": "80ee4526-592b-49ab-ac34-5d1940695431",
   "metadata": {},
   "outputs": [
    {
     "name": "stdout",
     "output_type": "stream",
     "text": [
      "-51144.72642572195\n"
     ]
    }
   ],
   "source": [
    " # predicted value of profit when 'R&D Spend','Administration','Marketing Spend', 'states_encoded' is 0\n",
    "print(model.intercept_)"
   ]
  },
  {
   "cell_type": "code",
   "execution_count": null,
   "id": "90070be5-9ee3-4aa0-9abf-30526d3207d3",
   "metadata": {},
   "outputs": [],
   "source": [
    "#putting in all together\n",
    "# Profit = (R&d Spend * 0.527) + (Administration * 0.844) + (Marketing Spend * 0.106) + (State_Code * -0.0355) - 51144.72"
   ]
  },
  {
   "cell_type": "markdown",
   "id": "5cafb683-76f8-4b82-a9e3-a2126553517d",
   "metadata": {},
   "source": [
    "**Interpretation**\n",
    "\n",
    "* R&D Spend: For each increase in R&D spending, the profit is expected to increase by $0.53 \n",
    "\n",
    "* Administration: For each  increase in Administration spending, the profit is expected to increase by $0.84\n",
    "\n",
    "* Marketing Spend: For each  increase in Marketing spending, profit is expected to increase by $0.11\n",
    "\n",
    "* State_Code: r= -0.0355 suggests that being in certain states may be associated with lower profits \n",
    "\n",
    "* The predicted value of Profit is -51144.73 represents when all the independent variables (X) are 0"
   ]
  },
  {
   "cell_type": "code",
   "execution_count": null,
   "id": "a9afcc07-57e2-4fe8-8d57-4122d374f296",
   "metadata": {},
   "outputs": [],
   "source": []
  }
 ],
 "metadata": {
  "kernelspec": {
   "display_name": "anaconda-panel-2023.05-py310",
   "language": "python",
   "name": "conda-env-anaconda-panel-2023.05-py310-py"
  },
  "language_info": {
   "codemirror_mode": {
    "name": "ipython",
    "version": 3
   },
   "file_extension": ".py",
   "mimetype": "text/x-python",
   "name": "python",
   "nbconvert_exporter": "python",
   "pygments_lexer": "ipython3",
   "version": "3.11.5"
  }
 },
 "nbformat": 4,
 "nbformat_minor": 5
}
